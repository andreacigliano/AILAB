{
  "nbformat": 4,
  "nbformat_minor": 0,
  "metadata": {
    "colab": {
      "provenance": [],
      "authorship_tag": "ABX9TyOArBruZqev7+zLlYNEnOH9",
      "include_colab_link": true
    },
    "kernelspec": {
      "name": "python3",
      "display_name": "Python 3"
    },
    "language_info": {
      "name": "python"
    }
  },
  "cells": [
    {
      "cell_type": "markdown",
      "metadata": {
        "id": "view-in-github",
        "colab_type": "text"
      },
      "source": [
        "<a href=\"https://colab.research.google.com/github/andreacigliano/AILAB/blob/main/AlberoDecisionale_RandomForest_SVC.ipynb\" target=\"_parent\"><img src=\"https://colab.research.google.com/assets/colab-badge.svg\" alt=\"Open In Colab\"/></a>"
      ]
    },
    {
      "cell_type": "code",
      "source": [
        "import numpy as np\n",
        "from sklearn.model_selection import train_test_split\n",
        "from sklearn.preprocessing import StandardScaler\n",
        "from sklearn.tree import DecisionTreeClassifier\n",
        "from sklearn.ensemble import RandomForestClassifier\n",
        "from sklearn.svm import SVC\n",
        "from sklearn.metrics import accuracy_score, classification_report\n",
        "\n",
        "# Generazione di dati di esempio\n",
        "np.random.seed(42)\n",
        "X = np.random.rand(100, 2)\n",
        "y = (X[:, 0] + X[:, 1] > 1).astype(int)\n",
        "\n",
        "# Divisione dei dati in set di training e test\n",
        "X_train, X_test, y_train, y_test = train_test_split(X, y, test_size=0.2, random_state=42)\n",
        "\n",
        "# Standardizzazione dei dati\n",
        "scaler = StandardScaler()\n",
        "X_train_scaled = scaler.fit_transform(X_train)\n",
        "X_test_scaled = scaler.transform(X_test)\n",
        "\n",
        "# 1. Albero Decisionale\n",
        "dt_clf = DecisionTreeClassifier(random_state=42)\n",
        "dt_clf.fit(X_train, y_train)\n",
        "y_pred_dt = dt_clf.predict(X_test)\n",
        "print(\"Accuratezza Albero Decisionale:\", accuracy_score(y_test, y_pred_dt))\n",
        "\n",
        "# 2. Random Forest\n",
        "rf_clf = RandomForestClassifier(n_estimators=100, random_state=42)\n",
        "rf_clf.fit(X_train, y_train)\n",
        "y_pred_rf = rf_clf.predict(X_test)\n",
        "print(\"Accuratezza Random Forest:\", accuracy_score(y_test, y_pred_rf))\n",
        "\n",
        "# 3. Support Vector Machine (SVM)\n",
        "svm_clf = SVC(kernel='rbf', random_state=42)\n",
        "svm_clf.fit(X_train_scaled, y_train)\n",
        "y_pred_svm = svm_clf.predict(X_test_scaled)\n",
        "print(\"Accuratezza SVM:\", accuracy_score(y_test, y_pred_svm))\n",
        "\n",
        "# Report di classificazione dettagliato per il modello migliore (esempio con Random Forest)\n",
        "print(\"\\nReport di classificazione per Random Forest:\")\n",
        "print(classification_report(y_test, y_pred_rf))"
      ],
      "metadata": {
        "colab": {
          "base_uri": "https://localhost:8080/"
        },
        "id": "yvhrEZZD0eUt",
        "outputId": "d2a48110-1edb-4e59-9226-4f5309b2bb0b"
      },
      "execution_count": 14,
      "outputs": [
        {
          "output_type": "stream",
          "name": "stdout",
          "text": [
            "Accuratezza Albero Decisionale: 0.85\n",
            "Accuratezza Random Forest: 0.95\n",
            "Accuratezza SVM: 0.95\n",
            "\n",
            "Report di classificazione per Random Forest:\n",
            "              precision    recall  f1-score   support\n",
            "\n",
            "           0       0.91      1.00      0.95        10\n",
            "           1       1.00      0.90      0.95        10\n",
            "\n",
            "    accuracy                           0.95        20\n",
            "   macro avg       0.95      0.95      0.95        20\n",
            "weighted avg       0.95      0.95      0.95        20\n",
            "\n"
          ]
        }
      ]
    }
  ]
}
